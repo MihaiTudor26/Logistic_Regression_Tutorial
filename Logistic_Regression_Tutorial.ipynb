{
 "cells": [
  {
   "cell_type": "markdown",
   "id": "fa7eef53",
   "metadata": {},
   "source": [
    "# Logistic Regression Tutorial👨🏼‍🏫"
   ]
  },
  {
   "cell_type": "markdown",
   "id": "e80d2136",
   "metadata": {},
   "source": [
    "In this tutorial, I implement Logistic Regression with Python. I build a Logistic Regression classifier to predict a tumour as malignant or benign. I train a binary classification model using Logistic Regression. The variable I’m going to be predicting can have one of the 2 values: 0 or 1.\n",
    "\n"
   ]
  },
  {
   "cell_type": "markdown",
   "id": "428d33bf",
   "metadata": {},
   "source": [
    "**Terminology.**"
   ]
  },
  {
   "cell_type": "markdown",
   "id": "1e14e9e3",
   "metadata": {},
   "source": [
    "Before we start with the analysis, it is important to understand what exactly we are trying to predict and what the information provided. “Benign” refers to a type of medical condition that is not cancerous or dangerous as opposed to “Malign”. The dataset contains 9 independent variables, each of them is a feature that is typically used in breast cancer analysis. \n",
    "\n",
    "- Clump thickness is a measure of the thickness of the cells in a tumor. Benign cells tend to be grouped in mono-layers, while cancerous cells tend to be in multiple layers.\n",
    "- Uniformity of cell size and uniformity of cell shape are two characteristics that can be used to describe the appearance of cells under a microscope. Here we are checking the degree to which the cells in a sample are similar in size and shape.\n",
    "- Marginal adhesion is the degree to which cells in a tissue sample adhere, or stick, to one another at the edges of the sample. Loss of adhesion might be a sign of malignancy.\n",
    "- Single epithelial cell size is the size of individual cells in an epithelial tissue sample. Epithelial tissue is a type of tissue that covers the surface of the body and lines internal organs and structures. It is made up of cells that are tightly packed together and held in place by specialized junctions.\n",
    "- Bare nuclei refers to cells in a tissue sample that are missing their cell membranes and cytoplasm, leaving only the nucleus visible.\n",
    "- Bland chromatin is the appearance of the genetic material (chromatin) in the nucleus of a cell under a microscope. Chromatin is made up of DNA and proteins, and it contains the genetic information that controls the cell’s functions. When the chromatin in a cell’s nucleus is compact and uniform in appearance, it is said to be “bland.”\n",
    "- Normal nucleoli are small, spherical structures found within the nucleus of a cell. They are composed of DNA, RNA, and proteins and are responsible for synthesizing ribosomes, which are the cellular structures that produce proteins. Nucleoli are usually visible under a microscope and can vary in size and appearance depending on the stage of the cell cycle and the cell’s function. In normal, healthy cells, nucleoli are usually small and have a distinct, well-defined border.\n",
    "- Mitosis is the process of cell division that occurs in all living organisms. During mitosis, a single cell divides into two daughter cells, each of which contains a copy of the parent cell’s DNA. The process of mitosis is essential for the growth and repair of tissues and the production of new cells.\n",
    "- Class contains the values 2 or 4 (‘malignant’ = 4 or ‘benign’ = 2).\n",
    "\n"
   ]
  },
  {
   "cell_type": "markdown",
   "id": "5242101a",
   "metadata": {},
   "source": [
    "**The Workflow.**"
   ]
  },
  {
   "cell_type": "markdown",
   "id": "71bb6a19",
   "metadata": {},
   "source": [
    "- Data collection & Inspection\n",
    "- Descriptive Statistics\n",
    "- Feature engineering\n",
    "- Model development\n",
    "- Evaluation and Vizualization"
   ]
  },
  {
   "cell_type": "markdown",
   "id": "d10a40d8",
   "metadata": {},
   "source": [
    "✏️**Import libraries.**"
   ]
  },
  {
   "cell_type": "code",
   "execution_count": 86,
   "id": "751d7a90",
   "metadata": {},
   "outputs": [],
   "source": [
    "import numpy as np\n",
    "import matplotlib.pyplot as plt\n",
    "import pandas as pd\n",
    "import seaborn as sns\n",
    "from sklearn.linear_model import LogisticRegression\n",
    "from sklearn.model_selection import train_test_split\n",
    "from sklearn.metrics import confusion_matrix, accuracy_score\n",
    "import warnings #to remove the warnings\n",
    "warnings.filterwarnings('ignore')"
   ]
  },
  {
   "cell_type": "markdown",
   "id": "cae7408b",
   "metadata": {},
   "source": [
    "✏️**Import dataset.**"
   ]
  },
  {
   "cell_type": "code",
   "execution_count": 87,
   "id": "0c3f9dc3",
   "metadata": {},
   "outputs": [],
   "source": [
    "df= pd.read_csv('breast_cancer.csv') #read the dataset"
   ]
  },
  {
   "cell_type": "markdown",
   "id": "c486e7e1",
   "metadata": {},
   "source": [
    "✏️**Exploratory Data Analysis (EDA).**"
   ]
  },
  {
   "cell_type": "markdown",
   "id": "2c6ce81d",
   "metadata": {},
   "source": [
    "In this section the dataset will be analyzed to come up with the main characteristics that could shed light on the nature of the data. The analysis will assist to find out which features are more crucial in predicting whether a sample is cancerous or not."
   ]
  },
  {
   "cell_type": "markdown",
   "id": "8ec6adb7",
   "metadata": {},
   "source": [
    "- view dimensions of dataset"
   ]
  },
  {
   "cell_type": "code",
   "execution_count": 88,
   "id": "6701f103",
   "metadata": {},
   "outputs": [
    {
     "data": {
      "text/plain": [
       "(683, 10)"
      ]
     },
     "execution_count": 88,
     "metadata": {},
     "output_type": "execute_result"
    }
   ],
   "source": [
    "df.shape"
   ]
  },
  {
   "cell_type": "markdown",
   "id": "5ed0ea52",
   "metadata": {},
   "source": [
    "We can see that there are 683 instances and 10 variables in the data set."
   ]
  },
  {
   "cell_type": "markdown",
   "id": "63daa96f",
   "metadata": {},
   "source": [
    "- preview the dataset"
   ]
  },
  {
   "cell_type": "code",
   "execution_count": 89,
   "id": "baf91924",
   "metadata": {},
   "outputs": [
    {
     "data": {
      "text/html": [
       "<div>\n",
       "<style scoped>\n",
       "    .dataframe tbody tr th:only-of-type {\n",
       "        vertical-align: middle;\n",
       "    }\n",
       "\n",
       "    .dataframe tbody tr th {\n",
       "        vertical-align: top;\n",
       "    }\n",
       "\n",
       "    .dataframe thead th {\n",
       "        text-align: right;\n",
       "    }\n",
       "</style>\n",
       "<table border=\"1\" class=\"dataframe\">\n",
       "  <thead>\n",
       "    <tr style=\"text-align: right;\">\n",
       "      <th></th>\n",
       "      <th>Clump Thickness</th>\n",
       "      <th>Uniformity of Cell Size</th>\n",
       "      <th>Uniformity of Cell Shape</th>\n",
       "      <th>Marginal Adhesion</th>\n",
       "      <th>Single Epithelial Cell Size</th>\n",
       "      <th>Bare Nuclei</th>\n",
       "      <th>Bland Chromatin</th>\n",
       "      <th>Normal Nucleoli</th>\n",
       "      <th>Mitoses</th>\n",
       "      <th>Class</th>\n",
       "    </tr>\n",
       "  </thead>\n",
       "  <tbody>\n",
       "    <tr>\n",
       "      <th>0</th>\n",
       "      <td>5</td>\n",
       "      <td>1</td>\n",
       "      <td>1</td>\n",
       "      <td>1</td>\n",
       "      <td>2</td>\n",
       "      <td>1</td>\n",
       "      <td>3</td>\n",
       "      <td>1</td>\n",
       "      <td>1</td>\n",
       "      <td>2</td>\n",
       "    </tr>\n",
       "    <tr>\n",
       "      <th>1</th>\n",
       "      <td>5</td>\n",
       "      <td>4</td>\n",
       "      <td>4</td>\n",
       "      <td>5</td>\n",
       "      <td>7</td>\n",
       "      <td>10</td>\n",
       "      <td>3</td>\n",
       "      <td>2</td>\n",
       "      <td>1</td>\n",
       "      <td>2</td>\n",
       "    </tr>\n",
       "    <tr>\n",
       "      <th>2</th>\n",
       "      <td>3</td>\n",
       "      <td>1</td>\n",
       "      <td>1</td>\n",
       "      <td>1</td>\n",
       "      <td>2</td>\n",
       "      <td>2</td>\n",
       "      <td>3</td>\n",
       "      <td>1</td>\n",
       "      <td>1</td>\n",
       "      <td>2</td>\n",
       "    </tr>\n",
       "    <tr>\n",
       "      <th>3</th>\n",
       "      <td>6</td>\n",
       "      <td>8</td>\n",
       "      <td>8</td>\n",
       "      <td>1</td>\n",
       "      <td>3</td>\n",
       "      <td>4</td>\n",
       "      <td>3</td>\n",
       "      <td>7</td>\n",
       "      <td>1</td>\n",
       "      <td>2</td>\n",
       "    </tr>\n",
       "    <tr>\n",
       "      <th>4</th>\n",
       "      <td>4</td>\n",
       "      <td>1</td>\n",
       "      <td>1</td>\n",
       "      <td>3</td>\n",
       "      <td>2</td>\n",
       "      <td>1</td>\n",
       "      <td>3</td>\n",
       "      <td>1</td>\n",
       "      <td>1</td>\n",
       "      <td>2</td>\n",
       "    </tr>\n",
       "  </tbody>\n",
       "</table>\n",
       "</div>"
      ],
      "text/plain": [
       "   Clump Thickness  Uniformity of Cell Size  Uniformity of Cell Shape  \\\n",
       "0                5                        1                         1   \n",
       "1                5                        4                         4   \n",
       "2                3                        1                         1   \n",
       "3                6                        8                         8   \n",
       "4                4                        1                         1   \n",
       "\n",
       "   Marginal Adhesion  Single Epithelial Cell Size  Bare Nuclei  \\\n",
       "0                  1                            2            1   \n",
       "1                  5                            7           10   \n",
       "2                  1                            2            2   \n",
       "3                  1                            3            4   \n",
       "4                  3                            2            1   \n",
       "\n",
       "   Bland Chromatin  Normal Nucleoli  Mitoses  Class  \n",
       "0                3                1        1      2  \n",
       "1                3                2        1      2  \n",
       "2                3                1        1      2  \n",
       "3                3                7        1      2  \n",
       "4                3                1        1      2  "
      ]
     },
     "execution_count": 89,
     "metadata": {},
     "output_type": "execute_result"
    }
   ],
   "source": [
    "df.head()"
   ]
  },
  {
   "cell_type": "markdown",
   "id": "286fa420",
   "metadata": {},
   "source": [
    "- view summary of dataset"
   ]
  },
  {
   "cell_type": "code",
   "execution_count": 90,
   "id": "5bcd0dc9",
   "metadata": {},
   "outputs": [
    {
     "name": "stdout",
     "output_type": "stream",
     "text": [
      "<class 'pandas.core.frame.DataFrame'>\n",
      "RangeIndex: 683 entries, 0 to 682\n",
      "Data columns (total 10 columns):\n",
      " #   Column                       Non-Null Count  Dtype\n",
      "---  ------                       --------------  -----\n",
      " 0   Clump Thickness              683 non-null    int64\n",
      " 1   Uniformity of Cell Size      683 non-null    int64\n",
      " 2   Uniformity of Cell Shape     683 non-null    int64\n",
      " 3   Marginal Adhesion            683 non-null    int64\n",
      " 4   Single Epithelial Cell Size  683 non-null    int64\n",
      " 5   Bare Nuclei                  683 non-null    int64\n",
      " 6   Bland Chromatin              683 non-null    int64\n",
      " 7   Normal Nucleoli              683 non-null    int64\n",
      " 8   Mitoses                      683 non-null    int64\n",
      " 9   Class                        683 non-null    int64\n",
      "dtypes: int64(10)\n",
      "memory usage: 53.5 KB\n"
     ]
    }
   ],
   "source": [
    "df.info()"
   ]
  },
  {
   "cell_type": "markdown",
   "id": "88558508",
   "metadata": {},
   "source": [
    "- types of variables"
   ]
  },
  {
   "cell_type": "code",
   "execution_count": 91,
   "id": "b3930c82",
   "metadata": {},
   "outputs": [
    {
     "name": "stdout",
     "output_type": "stream",
     "text": [
      "There are 0 categorical variables\n",
      "\n",
      "The categorical variables are : []\n"
     ]
    }
   ],
   "source": [
    "# find categorical variables\n",
    "categorical = [var for var in df.columns if df[var].dtype=='O']\n",
    "print('There are {} categorical variables\\n'.format(len(categorical)))\n",
    "print('The categorical variables are :', categorical)"
   ]
  },
  {
   "cell_type": "code",
   "execution_count": 92,
   "id": "80fb0586",
   "metadata": {},
   "outputs": [
    {
     "name": "stdout",
     "output_type": "stream",
     "text": [
      "There are 10 numerical variables\n",
      "\n",
      "The numerical variables are : ['Clump Thickness', 'Uniformity of Cell Size', 'Uniformity of Cell Shape', 'Marginal Adhesion', 'Single Epithelial Cell Size', 'Bare Nuclei', 'Bland Chromatin', 'Normal Nucleoli', 'Mitoses', 'Class']\n"
     ]
    }
   ],
   "source": [
    "# find numerical variables\n",
    "numerical = [var for var in df.columns if df[var].dtype!='o']\n",
    "print('There are {} numerical variables\\n'.format(len(numerical)))\n",
    "print('The numerical variables are :', numerical)"
   ]
  },
  {
   "cell_type": "code",
   "execution_count": 93,
   "id": "a6cc0de5",
   "metadata": {},
   "outputs": [
    {
     "data": {
      "text/html": [
       "<div>\n",
       "<style scoped>\n",
       "    .dataframe tbody tr th:only-of-type {\n",
       "        vertical-align: middle;\n",
       "    }\n",
       "\n",
       "    .dataframe tbody tr th {\n",
       "        vertical-align: top;\n",
       "    }\n",
       "\n",
       "    .dataframe thead th {\n",
       "        text-align: right;\n",
       "    }\n",
       "</style>\n",
       "<table border=\"1\" class=\"dataframe\">\n",
       "  <thead>\n",
       "    <tr style=\"text-align: right;\">\n",
       "      <th></th>\n",
       "      <th>Clump Thickness</th>\n",
       "      <th>Uniformity of Cell Size</th>\n",
       "      <th>Uniformity of Cell Shape</th>\n",
       "      <th>Marginal Adhesion</th>\n",
       "      <th>Single Epithelial Cell Size</th>\n",
       "      <th>Bare Nuclei</th>\n",
       "      <th>Bland Chromatin</th>\n",
       "      <th>Normal Nucleoli</th>\n",
       "      <th>Mitoses</th>\n",
       "      <th>Class</th>\n",
       "    </tr>\n",
       "  </thead>\n",
       "  <tbody>\n",
       "    <tr>\n",
       "      <th>0</th>\n",
       "      <td>5</td>\n",
       "      <td>1</td>\n",
       "      <td>1</td>\n",
       "      <td>1</td>\n",
       "      <td>2</td>\n",
       "      <td>1</td>\n",
       "      <td>3</td>\n",
       "      <td>1</td>\n",
       "      <td>1</td>\n",
       "      <td>2</td>\n",
       "    </tr>\n",
       "    <tr>\n",
       "      <th>1</th>\n",
       "      <td>5</td>\n",
       "      <td>4</td>\n",
       "      <td>4</td>\n",
       "      <td>5</td>\n",
       "      <td>7</td>\n",
       "      <td>10</td>\n",
       "      <td>3</td>\n",
       "      <td>2</td>\n",
       "      <td>1</td>\n",
       "      <td>2</td>\n",
       "    </tr>\n",
       "    <tr>\n",
       "      <th>2</th>\n",
       "      <td>3</td>\n",
       "      <td>1</td>\n",
       "      <td>1</td>\n",
       "      <td>1</td>\n",
       "      <td>2</td>\n",
       "      <td>2</td>\n",
       "      <td>3</td>\n",
       "      <td>1</td>\n",
       "      <td>1</td>\n",
       "      <td>2</td>\n",
       "    </tr>\n",
       "    <tr>\n",
       "      <th>3</th>\n",
       "      <td>6</td>\n",
       "      <td>8</td>\n",
       "      <td>8</td>\n",
       "      <td>1</td>\n",
       "      <td>3</td>\n",
       "      <td>4</td>\n",
       "      <td>3</td>\n",
       "      <td>7</td>\n",
       "      <td>1</td>\n",
       "      <td>2</td>\n",
       "    </tr>\n",
       "    <tr>\n",
       "      <th>4</th>\n",
       "      <td>4</td>\n",
       "      <td>1</td>\n",
       "      <td>1</td>\n",
       "      <td>3</td>\n",
       "      <td>2</td>\n",
       "      <td>1</td>\n",
       "      <td>3</td>\n",
       "      <td>1</td>\n",
       "      <td>1</td>\n",
       "      <td>2</td>\n",
       "    </tr>\n",
       "  </tbody>\n",
       "</table>\n",
       "</div>"
      ],
      "text/plain": [
       "   Clump Thickness  Uniformity of Cell Size  Uniformity of Cell Shape  \\\n",
       "0                5                        1                         1   \n",
       "1                5                        4                         4   \n",
       "2                3                        1                         1   \n",
       "3                6                        8                         8   \n",
       "4                4                        1                         1   \n",
       "\n",
       "   Marginal Adhesion  Single Epithelial Cell Size  Bare Nuclei  \\\n",
       "0                  1                            2            1   \n",
       "1                  5                            7           10   \n",
       "2                  1                            2            2   \n",
       "3                  1                            3            4   \n",
       "4                  3                            2            1   \n",
       "\n",
       "   Bland Chromatin  Normal Nucleoli  Mitoses  Class  \n",
       "0                3                1        1      2  \n",
       "1                3                2        1      2  \n",
       "2                3                1        1      2  \n",
       "3                3                7        1      2  \n",
       "4                3                1        1      2  "
      ]
     },
     "execution_count": 93,
     "metadata": {},
     "output_type": "execute_result"
    }
   ],
   "source": [
    "# view the numerical variables\n",
    "df[numerical].head()"
   ]
  },
  {
   "cell_type": "markdown",
   "id": "a00da9cd",
   "metadata": {},
   "source": [
    "- explore problems within numerical variables\n"
   ]
  },
  {
   "cell_type": "code",
   "execution_count": 94,
   "id": "2d9d70c0",
   "metadata": {},
   "outputs": [
    {
     "data": {
      "text/plain": [
       "Clump Thickness                0\n",
       "Uniformity of Cell Size        0\n",
       "Uniformity of Cell Shape       0\n",
       "Marginal Adhesion              0\n",
       "Single Epithelial Cell Size    0\n",
       "Bare Nuclei                    0\n",
       "Bland Chromatin                0\n",
       "Normal Nucleoli                0\n",
       "Mitoses                        0\n",
       "Class                          0\n",
       "dtype: int64"
      ]
     },
     "execution_count": 94,
     "metadata": {},
     "output_type": "execute_result"
    }
   ],
   "source": [
    "# check missing values in numerical variables\n",
    "df[numerical].isnull().sum()"
   ]
  },
  {
   "cell_type": "markdown",
   "id": "9b46cd77",
   "metadata": {},
   "source": [
    "We can see that all the variables don't contain missing values."
   ]
  },
  {
   "cell_type": "markdown",
   "id": "0f9359fb",
   "metadata": {},
   "source": [
    "- outliers in numerical variables"
   ]
  },
  {
   "cell_type": "code",
   "execution_count": 95,
   "id": "411f4a8c",
   "metadata": {},
   "outputs": [
    {
     "name": "stdout",
     "output_type": "stream",
     "text": [
      "       Clump Thickness  Uniformity of Cell Size  Uniformity of Cell Shape  \\\n",
      "count            683.0                    683.0                     683.0   \n",
      "mean               4.0                      3.0                       3.0   \n",
      "std                3.0                      3.0                       3.0   \n",
      "min                1.0                      1.0                       1.0   \n",
      "25%                2.0                      1.0                       1.0   \n",
      "50%                4.0                      1.0                       1.0   \n",
      "75%                6.0                      5.0                       5.0   \n",
      "max               10.0                     10.0                      10.0   \n",
      "\n",
      "       Marginal Adhesion  Single Epithelial Cell Size  Bare Nuclei  \\\n",
      "count              683.0                        683.0        683.0   \n",
      "mean                 3.0                          3.0          4.0   \n",
      "std                  3.0                          2.0          4.0   \n",
      "min                  1.0                          1.0          1.0   \n",
      "25%                  1.0                          2.0          1.0   \n",
      "50%                  1.0                          2.0          1.0   \n",
      "75%                  4.0                          4.0          6.0   \n",
      "max                 10.0                         10.0         10.0   \n",
      "\n",
      "       Bland Chromatin  Normal Nucleoli  Mitoses  Class  \n",
      "count            683.0            683.0    683.0  683.0  \n",
      "mean               3.0              3.0      2.0    3.0  \n",
      "std                2.0              3.0      2.0    1.0  \n",
      "min                1.0              1.0      1.0    2.0  \n",
      "25%                2.0              1.0      1.0    2.0  \n",
      "50%                3.0              1.0      1.0    2.0  \n",
      "75%                5.0              4.0      1.0    4.0  \n",
      "max               10.0             10.0     10.0    4.0   2\n"
     ]
    }
   ],
   "source": [
    "# view summary statistics in numerical variables\n",
    "print(round(df[numerical].describe()),2)"
   ]
  },
  {
   "cell_type": "code",
   "execution_count": 96,
   "id": "21d2877d",
   "metadata": {},
   "outputs": [
    {
     "data": {
      "image/png": "[encoded data removed]",
      "text/plain": [
       "<Figure size 432x288 with 1 Axes>"
      ]
     },
     "metadata": {
      "needs_background": "light"
     },
     "output_type": "display_data"
    },
    {
     "data": {
      "image/png": "[encoded data removed]",
      "text/plain": [
       "<Figure size 432x288 with 1 Axes>"
      ]
     },
     "metadata": {
      "needs_background": "light"
     },
     "output_type": "display_data"
    },
    {
     "data": {
      "image/png": "[encoded data removed]",
      "text/plain": [
       "<Figure size 432x288 with 1 Axes>"
      ]
     },
     "metadata": {
      "needs_background": "light"
     },
     "output_type": "display_data"
    },
    {
     "data": {
      "image/png": "[encoded data removed]",
      "text/plain": [
       "<Figure size 432x288 with 1 Axes>"
      ]
     },
     "metadata": {
      "needs_background": "light"
     },
     "output_type": "display_data"
    },
    {
     "data": {
      "image/png": "[encoded data removed]",
      "text/plain": [
       "<Figure size 432x288 with 1 Axes>"
      ]
     },
     "metadata": {
      "needs_background": "light"
     },
     "output_type": "display_data"
    },
    {
     "data": {
      "image/png": "[encoded data removed]",
      "text/plain": [
       "<Figure size 432x288 with 1 Axes>"
      ]
     },
     "metadata": {
      "needs_background": "light"
     },
     "output_type": "display_data"
    },
    {
     "data": {
      "image/png": "[encoded data removed]",
      "text/plain": [
       "<Figure size 432x288 with 1 Axes>"
      ]
     },
     "metadata": {
      "needs_background": "light"
     },
     "output_type": "display_data"
    },
    {
     "data": {
      "image/png": "[encoded data removed]",
      "text/plain": [
       "<Figure size 432x288 with 1 Axes>"
      ]
     },
     "metadata": {
      "needs_background": "light"
     },
     "output_type": "display_data"
    },
    {
     "data": {
      "image/png": "[encoded data removed]",
      "text/plain": [
       "<Figure size 432x288 with 1 Axes>"
      ]
     },
     "metadata": {
      "needs_background": "light"
     },
     "output_type": "display_data"
    },
    {
     "data": {
      "image/png": "[encoded data removed]",
      "text/plain": [
       "<Figure size 432x288 with 1 Axes>"
      ]
     },
     "metadata": {
      "needs_background": "light"
     },
     "output_type": "display_data"
    }
   ],
   "source": [
    "# draw boxplots to visualize outliers\n",
    "for i in df.columns:\n",
    "  plt.figure()\n",
    "  plt.boxplot(df[i])\n",
    "  plt.title(i)\n",
    "  plt.show()"
   ]
  },
  {
   "cell_type": "markdown",
   "id": "a319f2ce",
   "metadata": {},
   "source": [
    "We note that 'Margin Adhesion', 'Single Epithelial Cell Size', 'Bland Chromatin','Normal Nucleoli' and 'Mitrose's have outliers."
   ]
  },
  {
   "cell_type": "markdown",
   "id": "e764daea",
   "metadata": {},
   "source": [
    "- Check the distribution of variables\n",
    "\n",
    "Now, I will plot the histograms to check distributions to find out if they are normal or skewed. If the variable follows normal distribution, then we can do Extreme Value Analysis otherwise if they are skewed, we can find IQR (Interquantile range).\n",
    "\n"
   ]
  },
  {
   "cell_type": "code",
   "execution_count": 97,
   "id": "bc611864",
   "metadata": {},
   "outputs": [
    {
     "data": {
      "text/plain": [
       "<AxesSubplot:xlabel='Mitoses', ylabel='Density'>"
      ]
     },
     "execution_count": 97,
     "metadata": {},
     "output_type": "execute_result"
    },
    {
     "data": {
      "image/png": "[encoded data removed]",
      "text/plain": [
       "<Figure size 1080x720 with 5 Axes>"
      ]
     },
     "metadata": {
      "needs_background": "light"
     },
     "output_type": "display_data"
    }
   ],
   "source": [
    "#plot histogram to check distribution\n",
    "\n",
    "plt.figure(figsize=(15,10))\n",
    "\n",
    "\n",
    "plt.subplot(3, 2, 1)\n",
    "sns.distplot(df['Marginal Adhesion'])\n",
    "\n",
    "\n",
    "plt.subplot(3, 2, 2)\n",
    "sns.distplot(df['Single Epithelial Cell Size'])\n",
    "\n",
    "\n",
    "plt.subplot(3, 2, 3)\n",
    "sns.distplot(df['Bland Chromatin'])\n",
    "\n",
    "\n",
    "plt.subplot(3, 2, 4)\n",
    "sns.distplot(df['Normal Nucleoli'])\n",
    "\n",
    "plt.subplot(3, 2, 5)\n",
    "sns.distplot(df['Mitoses'])\n"
   ]
  },
  {
   "cell_type": "markdown",
   "id": "3330a8a7",
   "metadata": {},
   "source": [
    "We can see that all the five variables are skewed. So, we can use interquantile range to find outliers. However, Logistic Regression models are not much impacted due to the presence of outliers because the sigmoid function tapers the outliers. But the presence of extreme outliers may somehow affect the performance of the model and lowering the performance. In our case, the extreme values being few, we will not concern ourselves with this aspect in the analysis performed.\n",
    "\n",
    "Skewness is demonstrated on a bell curve when data points are not distributed symmetrically to the left and right sides of the median on a bell curve. If the bell curve is shifted to the left or the right, it is said to be skewed."
   ]
  },
  {
   "cell_type": "markdown",
   "id": "f0572212",
   "metadata": {},
   "source": [
    "✏️**Define dependent and independent variables and then split the data into a training set and testing set.**"
   ]
  },
  {
   "cell_type": "markdown",
   "id": "40fd0763",
   "metadata": {},
   "source": [
    "- We will replace the value 2 with 0 and the value 4 with 1 in the class column. The value 1 will indicate malignant cancer and 0 will indicate benign cancer.\n"
   ]
  },
  {
   "cell_type": "code",
   "execution_count": 98,
   "id": "3daad13d",
   "metadata": {},
   "outputs": [],
   "source": [
    "df=df.replace({'Class':{4:1, 2:0}})"
   ]
  },
  {
   "cell_type": "code",
   "execution_count": 99,
   "id": "3178a846",
   "metadata": {},
   "outputs": [
    {
     "data": {
      "text/html": [
       "<div>\n",
       "<style scoped>\n",
       "    .dataframe tbody tr th:only-of-type {\n",
       "        vertical-align: middle;\n",
       "    }\n",
       "\n",
       "    .dataframe tbody tr th {\n",
       "        vertical-align: top;\n",
       "    }\n",
       "\n",
       "    .dataframe thead th {\n",
       "        text-align: right;\n",
       "    }\n",
       "</style>\n",
       "<table border=\"1\" class=\"dataframe\">\n",
       "  <thead>\n",
       "    <tr style=\"text-align: right;\">\n",
       "      <th></th>\n",
       "      <th>Clump Thickness</th>\n",
       "      <th>Uniformity of Cell Size</th>\n",
       "      <th>Uniformity of Cell Shape</th>\n",
       "      <th>Marginal Adhesion</th>\n",
       "      <th>Single Epithelial Cell Size</th>\n",
       "      <th>Bare Nuclei</th>\n",
       "      <th>Bland Chromatin</th>\n",
       "      <th>Normal Nucleoli</th>\n",
       "      <th>Mitoses</th>\n",
       "      <th>Class</th>\n",
       "    </tr>\n",
       "  </thead>\n",
       "  <tbody>\n",
       "    <tr>\n",
       "      <th>0</th>\n",
       "      <td>5</td>\n",
       "      <td>1</td>\n",
       "      <td>1</td>\n",
       "      <td>1</td>\n",
       "      <td>2</td>\n",
       "      <td>1</td>\n",
       "      <td>3</td>\n",
       "      <td>1</td>\n",
       "      <td>1</td>\n",
       "      <td>0</td>\n",
       "    </tr>\n",
       "    <tr>\n",
       "      <th>1</th>\n",
       "      <td>5</td>\n",
       "      <td>4</td>\n",
       "      <td>4</td>\n",
       "      <td>5</td>\n",
       "      <td>7</td>\n",
       "      <td>10</td>\n",
       "      <td>3</td>\n",
       "      <td>2</td>\n",
       "      <td>1</td>\n",
       "      <td>0</td>\n",
       "    </tr>\n",
       "    <tr>\n",
       "      <th>2</th>\n",
       "      <td>3</td>\n",
       "      <td>1</td>\n",
       "      <td>1</td>\n",
       "      <td>1</td>\n",
       "      <td>2</td>\n",
       "      <td>2</td>\n",
       "      <td>3</td>\n",
       "      <td>1</td>\n",
       "      <td>1</td>\n",
       "      <td>0</td>\n",
       "    </tr>\n",
       "    <tr>\n",
       "      <th>3</th>\n",
       "      <td>6</td>\n",
       "      <td>8</td>\n",
       "      <td>8</td>\n",
       "      <td>1</td>\n",
       "      <td>3</td>\n",
       "      <td>4</td>\n",
       "      <td>3</td>\n",
       "      <td>7</td>\n",
       "      <td>1</td>\n",
       "      <td>0</td>\n",
       "    </tr>\n",
       "    <tr>\n",
       "      <th>4</th>\n",
       "      <td>4</td>\n",
       "      <td>1</td>\n",
       "      <td>1</td>\n",
       "      <td>3</td>\n",
       "      <td>2</td>\n",
       "      <td>1</td>\n",
       "      <td>3</td>\n",
       "      <td>1</td>\n",
       "      <td>1</td>\n",
       "      <td>0</td>\n",
       "    </tr>\n",
       "  </tbody>\n",
       "</table>\n",
       "</div>"
      ],
      "text/plain": [
       "   Clump Thickness  Uniformity of Cell Size  Uniformity of Cell Shape  \\\n",
       "0                5                        1                         1   \n",
       "1                5                        4                         4   \n",
       "2                3                        1                         1   \n",
       "3                6                        8                         8   \n",
       "4                4                        1                         1   \n",
       "\n",
       "   Marginal Adhesion  Single Epithelial Cell Size  Bare Nuclei  \\\n",
       "0                  1                            2            1   \n",
       "1                  5                            7           10   \n",
       "2                  1                            2            2   \n",
       "3                  1                            3            4   \n",
       "4                  3                            2            1   \n",
       "\n",
       "   Bland Chromatin  Normal Nucleoli  Mitoses  Class  \n",
       "0                3                1        1      0  \n",
       "1                3                2        1      0  \n",
       "2                3                1        1      0  \n",
       "3                3                7        1      0  \n",
       "4                3                1        1      0  "
      ]
     },
     "execution_count": 99,
     "metadata": {},
     "output_type": "execute_result"
    }
   ],
   "source": [
    "df.head()"
   ]
  },
  {
   "cell_type": "markdown",
   "id": "7a5f3447",
   "metadata": {},
   "source": [
    "- Declare feature vector and target variable."
   ]
  },
  {
   "cell_type": "code",
   "execution_count": 100,
   "id": "fe8f538f",
   "metadata": {},
   "outputs": [],
   "source": [
    "y= df['Class'] #target variable\n",
    "x= df.drop(['Class'], axis=1)#feature vector\n",
    "\n",
    "x_train, x_test, y_train, y_test = train_test_split(x,y, test_size= 0.2)"
   ]
  },
  {
   "cell_type": "markdown",
   "id": "cdc39110",
   "metadata": {},
   "source": [
    "- Split data into separate training and test set."
   ]
  },
  {
   "cell_type": "code",
   "execution_count": 101,
   "id": "1630d39e",
   "metadata": {},
   "outputs": [],
   "source": [
    "x_train, x_test, y_train, y_test = train_test_split(x,y, test_size= 0.2)"
   ]
  },
  {
   "cell_type": "markdown",
   "id": "07fcfdcd",
   "metadata": {},
   "source": [
    "- Check the shape of x_train and x_test."
   ]
  },
  {
   "cell_type": "code",
   "execution_count": 102,
   "id": "3a7cad5f",
   "metadata": {},
   "outputs": [
    {
     "data": {
      "text/plain": [
       "((546, 9), (137, 9))"
      ]
     },
     "execution_count": 102,
     "metadata": {},
     "output_type": "execute_result"
    }
   ],
   "source": [
    "x_train.shape, x_test.shape"
   ]
  },
  {
   "cell_type": "markdown",
   "id": "52ebd2ac",
   "metadata": {},
   "source": [
    "- Check the shape of x_train and x_test."
   ]
  },
  {
   "cell_type": "code",
   "execution_count": 103,
   "id": "76ff9ebc",
   "metadata": {},
   "outputs": [
    {
     "data": {
      "text/plain": [
       "((546,), (137,))"
      ]
     },
     "execution_count": 103,
     "metadata": {},
     "output_type": "execute_result"
    }
   ],
   "source": [
    "y_train.shape, y_test.shape"
   ]
  },
  {
   "cell_type": "markdown",
   "id": "42723e62",
   "metadata": {},
   "source": [
    "✏️**Fit the logistic regression model.**"
   ]
  },
  {
   "cell_type": "code",
   "execution_count": 104,
   "id": "9ed6a29b",
   "metadata": {},
   "outputs": [
    {
     "name": "stdout",
     "output_type": "stream",
     "text": [
      "The intercept b0=  [-10.7085957]\n",
      "The coefficient b1=  [[ 0.61150491 -0.09235674  0.36855771  0.40941019  0.10563669  0.31829592\n",
      "   0.53309155  0.28652111  0.39741121]]\n"
     ]
    }
   ],
   "source": [
    "modelLogistic = LogisticRegression()\n",
    "modelLogistic.fit(x_train,y_train)\n",
    "print(\"The intercept b0= \", modelLogistic.intercept_)\n",
    "print(\"The coefficient b1= \", modelLogistic.coef_)"
   ]
  },
  {
   "cell_type": "markdown",
   "id": "8cee70dc",
   "metadata": {},
   "source": [
    "✏️**Evaluate the model using a confusion matrix.**"
   ]
  },
  {
   "cell_type": "markdown",
   "id": "986e60b2",
   "metadata": {},
   "source": [
    "- Create a confusion matrix."
   ]
  },
  {
   "cell_type": "code",
   "execution_count": 105,
   "id": "5267ce13",
   "metadata": {},
   "outputs": [
    {
     "name": "stdout",
     "output_type": "stream",
     "text": [
      "Confusion matrix\n",
      "\n",
      " [[84  2]\n",
      " [ 3 48]]\n",
      "\n",
      "True Positives(TP) =  84\n",
      "\n",
      "True Negatives(TN) =  48\n",
      "\n",
      "False Positives(FP) =  2\n",
      "\n",
      "False Negatives(FN) =  3\n"
     ]
    }
   ],
   "source": [
    "y_pred= modelLogistic.predict(x_test)\n",
    "ConfusionMatrix = confusion_matrix(y_test, y_pred)\n",
    "print('Confusion matrix\\n\\n', ConfusionMatrix)\n",
    "print('\\nTrue Positives(TP) = ', ConfusionMatrix[0,0])\n",
    "print('\\nTrue Negatives(TN) = ', ConfusionMatrix[1,1])\n",
    "print('\\nFalse Positives(FP) = ', ConfusionMatrix[0,1])\n",
    "print('\\nFalse Negatives(FN) = ', ConfusionMatrix[1,0])"
   ]
  },
  {
   "cell_type": "markdown",
   "id": "8c62338e",
   "metadata": {},
   "source": [
    "- Display the visualization of the Confusion Matrix."
   ]
  },
  {
   "cell_type": "code",
   "execution_count": 106,
   "id": "388f5801",
   "metadata": {},
   "outputs": [
    {
     "data": {
      "image/png": "[encoded data removed]",
      "text/plain": [
       "<Figure size 432x288 with 2 Axes>"
      ]
     },
     "metadata": {
      "needs_background": "light"
     },
     "output_type": "display_data"
    }
   ],
   "source": [
    "ax = sns.heatmap(ConfusionMatrix, annot=True, cmap='BuPu')\n",
    "ax.set_title('Confusion Matrix');\n",
    "ax.set_xlabel('Actual Values')\n",
    "ax.set_ylabel('Predicted Values');\n",
    "ax.xaxis.set_ticklabels(['Bening','Malign'])\n",
    "ax.yaxis.set_ticklabels(['Bening','Malign'])\n",
    "plt.show()"
   ]
  },
  {
   "cell_type": "markdown",
   "id": "845b1495",
   "metadata": {},
   "source": [
    "- Classification report.\n"
   ]
  },
  {
   "cell_type": "code",
   "execution_count": 107,
   "id": "d032e98e",
   "metadata": {},
   "outputs": [
    {
     "name": "stdout",
     "output_type": "stream",
     "text": [
      "              precision    recall  f1-score   support\n",
      "\n",
      "           0       0.97      0.98      0.97        86\n",
      "           1       0.96      0.94      0.95        51\n",
      "\n",
      "    accuracy                           0.96       137\n",
      "   macro avg       0.96      0.96      0.96       137\n",
      "weighted avg       0.96      0.96      0.96       137\n",
      "\n"
     ]
    }
   ],
   "source": [
    "from sklearn.metrics import classification_report\n",
    "report=classification_report(y_test,y_pred)\n",
    "print(report)"
   ]
  },
  {
   "cell_type": "markdown",
   "id": "65290f94",
   "metadata": {},
   "source": [
    "- The support is the number of occurrences in each class.\n",
    "- Recall=TP/(TP+FN). Recall is also called Sensitivity.\n",
    "- Precision=TP/(TP+FP)\n",
    "- f1-score is the weighted harmonic mean of precision and recall.\n",
    "- Specificity = TN / (TN + FP)"
   ]
  },
  {
   "cell_type": "markdown",
   "id": "d402dd63",
   "metadata": {},
   "source": [
    "- Classification error."
   ]
  },
  {
   "cell_type": "code",
   "execution_count": 108,
   "id": "44cba56b",
   "metadata": {},
   "outputs": [
    {
     "name": "stdout",
     "output_type": "stream",
     "text": [
      "Classification error : 0.0365\n"
     ]
    }
   ],
   "source": [
    "TP = ConfusionMatrix[0,0]\n",
    "TN = ConfusionMatrix[1,1]\n",
    "FP = ConfusionMatrix[0,1]\n",
    "FN = ConfusionMatrix[1,0]\n",
    "classification_error = (FP + FN) / float(TP + TN + FP + FN)\n",
    "print('Classification error : {0:0.4f}'.format(classification_error))"
   ]
  },
  {
   "cell_type": "markdown",
   "id": "409e4f00",
   "metadata": {},
   "source": [
    "- Check for overfitting and underfitting."
   ]
  },
  {
   "cell_type": "code",
   "execution_count": 109,
   "id": "3b92b1bb",
   "metadata": {},
   "outputs": [
    {
     "name": "stdout",
     "output_type": "stream",
     "text": [
      "Training set score: 0.9744\n",
      "Test set score: 0.9635\n"
     ]
    }
   ],
   "source": [
    "# print the scores on training and test set\n",
    "print('Training set score: {:.4f}'.format(modelLogistic.score(x_train, y_train)))\n",
    "print('Test set score: {:.4f}'.format(modelLogistic.score(x_test, y_test)))\n"
   ]
  },
  {
   "cell_type": "markdown",
   "id": "1229cc0b",
   "metadata": {},
   "source": [
    "The training-set accuracy score is 0.9725 while the test-set accuracy is 0.9562. These two values are quite comparable. So, there is no problem with overfitting."
   ]
  },
  {
   "cell_type": "markdown",
   "id": "a11c738e",
   "metadata": {},
   "source": [
    "✏️**Predict results.**"
   ]
  },
  {
   "cell_type": "markdown",
   "id": "65464867",
   "metadata": {},
   "source": [
    "- predict the class for observetion from test set."
   ]
  },
  {
   "cell_type": "code",
   "execution_count": 110,
   "id": "fb885591",
   "metadata": {},
   "outputs": [],
   "source": [
    "y_pred_class= modelLogistic.predict(x_test)"
   ]
  },
  {
   "cell_type": "code",
   "execution_count": 111,
   "id": "83e3ce3b",
   "metadata": {},
   "outputs": [
    {
     "data": {
      "text/plain": [
       "array([0, 0, 1, 0, 0, 0, 0, 1, 0, 1, 1, 0, 0, 1, 0, 0, 0, 1, 1, 0, 1, 1,\n",
       "       0, 0, 0, 0, 0, 0, 1, 0, 0, 0, 0, 1, 0, 1, 0, 1, 0, 0, 1, 0, 0, 1,\n",
       "       0, 1, 0, 1, 0, 0, 1, 0, 0, 1, 0, 0, 0, 0, 0, 0, 1, 1, 1, 0, 0, 1,\n",
       "       0, 0, 0, 0, 1, 1, 1, 0, 1, 0, 0, 1, 0, 0, 0, 0, 1, 0, 1, 0, 1, 0,\n",
       "       0, 0, 0, 0, 1, 0, 1, 1, 1, 1, 0, 0, 0, 1, 1, 0, 0, 1, 0, 1, 1, 1,\n",
       "       0, 0, 0, 0, 0, 0, 0, 1, 0, 0, 1, 1, 1, 1, 1, 0, 0, 0, 0, 0, 1, 0,\n",
       "       0, 0, 1, 0, 0], dtype=int64)"
      ]
     },
     "execution_count": 111,
     "metadata": {},
     "output_type": "execute_result"
    }
   ],
   "source": [
    "y_pred_class"
   ]
  },
  {
   "cell_type": "markdown",
   "id": "fb9655ef",
   "metadata": {},
   "source": [
    "- predict the probabilities of two classes: 0 and 1"
   ]
  },
  {
   "cell_type": "code",
   "execution_count": 112,
   "id": "7b7a976e",
   "metadata": {},
   "outputs": [
    {
     "data": {
      "text/plain": [
       "array([[9.81572677e-01, 1.84273227e-02],\n",
       "       [9.98409121e-01, 1.59087866e-03],\n",
       "       [7.67680601e-05, 9.99923232e-01],\n",
       "       [9.84262473e-01, 1.57375272e-02],\n",
       "       [9.99201355e-01, 7.98645116e-04],\n",
       "       [5.70230304e-01, 4.29769696e-01],\n",
       "       [9.99281360e-01, 7.18639660e-04],\n",
       "       [5.23683768e-05, 9.99947632e-01],\n",
       "       [8.16106582e-01, 1.83893418e-01],\n",
       "       [5.47911243e-02, 9.45208876e-01],\n",
       "       [7.52089956e-03, 9.92479100e-01],\n",
       "       [9.97291870e-01, 2.70813005e-03],\n",
       "       [9.81023001e-01, 1.89769987e-02],\n",
       "       [3.56265399e-03, 9.96437346e-01],\n",
       "       [9.99201355e-01, 7.98645116e-04],\n",
       "       [9.98409121e-01, 1.59087866e-03],\n",
       "       [9.49070048e-01, 5.09299523e-02],\n",
       "       [9.00073507e-06, 9.99990999e-01],\n",
       "       [2.35905097e-04, 9.99764095e-01],\n",
       "       [9.74520723e-01, 2.54792766e-02],\n",
       "       [4.34474884e-08, 9.99999957e-01],\n",
       "       [2.01320607e-02, 9.79867939e-01],\n",
       "       [9.97071616e-01, 2.92838434e-03],\n",
       "       [9.98528925e-01, 1.47107455e-03],\n",
       "       [9.97432141e-01, 2.56785933e-03],\n",
       "       [8.53674776e-01, 1.46325224e-01],\n",
       "       [9.89647951e-01, 1.03520494e-02],\n",
       "       [9.94615688e-01, 5.38431221e-03],\n",
       "       [1.20421806e-02, 9.87957819e-01],\n",
       "       [9.97071616e-01, 2.92838434e-03],\n",
       "       [9.06818015e-01, 9.31819847e-02],\n",
       "       [9.97291870e-01, 2.70813005e-03],\n",
       "       [9.98479260e-01, 1.52074015e-03],\n",
       "       [5.68908209e-02, 9.43109179e-01],\n",
       "       [9.98909244e-01, 1.09075593e-03],\n",
       "       [1.10749243e-03, 9.98892508e-01],\n",
       "       [9.56279574e-01, 4.37204257e-02],\n",
       "       [6.71974484e-05, 9.99932803e-01],\n",
       "       [9.98639720e-01, 1.36028022e-03],\n",
       "       [9.95393609e-01, 4.60639107e-03],\n",
       "       [4.22590451e-02, 9.57740955e-01],\n",
       "       [9.99136266e-01, 8.63734037e-04],\n",
       "       [9.85867439e-01, 1.41325610e-02],\n",
       "       [7.60428376e-06, 9.99992396e-01],\n",
       "       [9.98937498e-01, 1.06250161e-03],\n",
       "       [2.87335821e-04, 9.99712664e-01],\n",
       "       [9.97071616e-01, 2.92838434e-03],\n",
       "       [1.22445708e-01, 8.77554292e-01],\n",
       "       [9.99136266e-01, 8.63734037e-04],\n",
       "       [9.97495600e-01, 2.50440026e-03],\n",
       "       [8.90518830e-02, 9.10948117e-01],\n",
       "       [9.79256827e-01, 2.07431730e-02],\n",
       "       [9.99136266e-01, 8.63734037e-04],\n",
       "       [3.80820074e-03, 9.96191799e-01],\n",
       "       [9.98902365e-01, 1.09763521e-03],\n",
       "       [9.84521195e-01, 1.54788054e-02],\n",
       "       [9.99531210e-01, 4.68790136e-04],\n",
       "       [9.97562694e-01, 2.43730571e-03],\n",
       "       [7.08703875e-01, 2.91296125e-01],\n",
       "       [9.98332364e-01, 1.66763552e-03],\n",
       "       [4.50112079e-05, 9.99954989e-01],\n",
       "       [3.64101150e-03, 9.96358989e-01],\n",
       "       [2.04069057e-04, 9.99795931e-01],\n",
       "       [9.97071616e-01, 2.92838434e-03],\n",
       "       [9.92518928e-01, 7.48107190e-03],\n",
       "       [1.10361538e-02, 9.88963846e-01],\n",
       "       [9.99531210e-01, 4.68790136e-04],\n",
       "       [9.87872122e-01, 1.21278784e-02],\n",
       "       [9.94615688e-01, 5.38431221e-03],\n",
       "       [9.26429078e-01, 7.35709215e-02],\n",
       "       [1.93574381e-04, 9.99806426e-01],\n",
       "       [1.63776107e-04, 9.99836224e-01],\n",
       "       [2.60691704e-07, 9.99999739e-01],\n",
       "       [9.95393609e-01, 4.60639107e-03],\n",
       "       [1.97097792e-04, 9.99802902e-01],\n",
       "       [9.92816239e-01, 7.18376135e-03],\n",
       "       [9.97291870e-01, 2.70813005e-03],\n",
       "       [4.59167651e-03, 9.95408323e-01],\n",
       "       [9.55475911e-01, 4.45240888e-02],\n",
       "       [9.98782818e-01, 1.21718237e-03],\n",
       "       [9.98409121e-01, 1.59087866e-03],\n",
       "       [9.40450299e-01, 5.95497009e-02],\n",
       "       [1.05327182e-02, 9.89467282e-01],\n",
       "       [9.68405726e-01, 3.15942737e-02],\n",
       "       [2.17866974e-01, 7.82133026e-01],\n",
       "       [9.87872122e-01, 1.21278784e-02],\n",
       "       [4.89490890e-03, 9.95105091e-01],\n",
       "       [9.98639720e-01, 1.36028022e-03],\n",
       "       [9.93383507e-01, 6.61649279e-03],\n",
       "       [9.95393609e-01, 4.60639107e-03],\n",
       "       [9.97291870e-01, 2.70813005e-03],\n",
       "       [9.98528925e-01, 1.47107455e-03],\n",
       "       [5.81504822e-03, 9.94184952e-01],\n",
       "       [9.99531210e-01, 4.68790136e-04],\n",
       "       [1.06923769e-03, 9.98930762e-01],\n",
       "       [2.99391228e-05, 9.99970061e-01],\n",
       "       [1.21876127e-02, 9.87812387e-01],\n",
       "       [2.15638235e-04, 9.99784362e-01],\n",
       "       [9.17598990e-01, 8.24010097e-02],\n",
       "       [9.99201355e-01, 7.98645116e-04],\n",
       "       [9.99115839e-01, 8.84160606e-04],\n",
       "       [3.31299744e-06, 9.99996687e-01],\n",
       "       [1.93738282e-01, 8.06261718e-01],\n",
       "       [9.98775919e-01, 1.22408106e-03],\n",
       "       [9.95516764e-01, 4.48323589e-03],\n",
       "       [9.52126678e-05, 9.99904787e-01],\n",
       "       [8.32967475e-01, 1.67032525e-01],\n",
       "       [2.54974873e-05, 9.99974503e-01],\n",
       "       [8.31592108e-03, 9.91684079e-01],\n",
       "       [4.34376330e-02, 9.56562367e-01],\n",
       "       [9.98327401e-01, 1.67259867e-03],\n",
       "       [9.95519724e-01, 4.48027582e-03],\n",
       "       [9.95019739e-01, 4.98026142e-03],\n",
       "       [9.65496545e-01, 3.45034546e-02],\n",
       "       [9.98584354e-01, 1.41564598e-03],\n",
       "       [9.93678126e-01, 6.32187421e-03],\n",
       "       [9.97291870e-01, 2.70813005e-03],\n",
       "       [1.04679960e-01, 8.95320040e-01],\n",
       "       [9.95772104e-01, 4.22789565e-03],\n",
       "       [9.97291870e-01, 2.70813005e-03],\n",
       "       [1.15858941e-03, 9.98841411e-01],\n",
       "       [1.33989778e-04, 9.99866010e-01],\n",
       "       [1.79581460e-02, 9.82041854e-01],\n",
       "       [6.20686493e-03, 9.93793135e-01],\n",
       "       [6.51426003e-05, 9.99934857e-01],\n",
       "       [9.91542336e-01, 8.45766397e-03],\n",
       "       [9.99531210e-01, 4.68790136e-04],\n",
       "       [9.99531210e-01, 4.68790136e-04],\n",
       "       [9.99020777e-01, 9.79223408e-04],\n",
       "       [9.90858754e-01, 9.14124608e-03],\n",
       "       [1.72002819e-03, 9.98279972e-01],\n",
       "       [9.91542336e-01, 8.45766397e-03],\n",
       "       [5.57060370e-01, 4.42939630e-01],\n",
       "       [9.98699846e-01, 1.30015425e-03],\n",
       "       [4.11029789e-04, 9.99588970e-01],\n",
       "       [9.98409121e-01, 1.59087866e-03],\n",
       "       [9.95019739e-01, 4.98026142e-03]])"
      ]
     },
     "execution_count": 112,
     "metadata": {},
     "output_type": "execute_result"
    }
   ],
   "source": [
    "y_pred_prob = modelLogistic.predict_proba(x_test)\n",
    "y_pred_prob"
   ]
  },
  {
   "cell_type": "markdown",
   "id": "875be839",
   "metadata": {},
   "source": [
    "❗️ Observations:\n",
    "\n",
    "- In each row, the numbers sum to 1.\n",
    "- There are 2 columns which correspond to 2 classes: 0 and 1.\n",
    "    - Class 0 - predicted probability for benign cancer.\n",
    "    - Class 1 - predicted probability for malignant cancer.\n",
    "\n",
    "- Importance of predicted probabilities: we can rank the observations by probability of benign cancer or malignant cancer.\n",
    "\n",
    "- Classification threshold level:\n",
    "   - There is a classification threshold level of 0.5.\n",
    "   - Class 1 - probability of malignant cancer is predicted if probability > 0.5.\n",
    "   - Class 0 - probability of benign cancer is predicted if probability < 0.5.\n"
   ]
  },
  {
   "cell_type": "markdown",
   "id": "d751861d",
   "metadata": {},
   "source": [
    "**📚References.**\n",
    "\n",
    "- https://www.kaggle.com/datasets/marshuu/breast-cancer.\n",
    "- Johns Hopkins University, 2023, Glossary of Breast Cancer Terms, <https://pathology.jhu.edu/breast/glossary>.\n",
    "- Sarkar, S K, Nag, A, 2017, Identifying Patients at Risk of Breast Cancer through Decision Trees, viewed 15 January, 2023, <https://www.researchgate.net/publication/325868350_Identifying_Patients_at_Risk_of_Breast_Cancer_through_Decision_Trees>.\n"
   ]
  }
 ],
 "metadata": {
  "kernelspec": {
   "display_name": "Python 3",
   "language": "python",
   "name": "python3"
  },
  "language_info": {
   "codemirror_mode": {
    "name": "ipython",
    "version": 3
   },
   "file_extension": ".py",
   "mimetype": "text/x-python",
   "name": "python",
   "nbconvert_exporter": "python",
   "pygments_lexer": "ipython3",
   "version": "3.9.12"
  }
 },
 "nbformat": 4,
 "nbformat_minor": 5
}
